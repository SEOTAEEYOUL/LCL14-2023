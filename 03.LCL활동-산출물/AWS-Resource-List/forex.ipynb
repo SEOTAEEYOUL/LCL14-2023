{
 "cells": [
  {
   "cell_type": "code",
   "execution_count": 1,
   "metadata": {},
   "outputs": [
    {
     "name": "stdout",
     "output_type": "stream",
     "text": [
      "현재 원/달러 환율(forex_python): 366.4819944598338\n"
     ]
    }
   ],
   "source": [
    "from forex_python.converter import CurrencyRates\n",
    "\n",
    "c = CurrencyRates()\n",
    "rate = c.get_rate('USD', 'KRW')\n",
    "print(\"현재 원/달러 환율(forex_python):\", rate)\n",
    "\n",
    "\n"
   ]
  },
  {
   "cell_type": "code",
   "execution_count": 2,
   "metadata": {},
   "outputs": [
    {
     "name": "stdout",
     "output_type": "stream",
     "text": [
      "현재 원/달러 환율(finance-datareader): 1323.430054\n"
     ]
    }
   ],
   "source": [
    "import FinanceDataReader as fdr\n",
    "\n",
    "# USD/KRW 환율 정보 가져오기\n",
    "exchange_rate = fdr.DataReader('USD/KRW').iloc[-1][0]\n",
    "print(\"현재 원/달러 환율(finance-datareader):\", exchange_rate)\n",
    "\n"
   ]
  },
  {
   "cell_type": "code",
   "execution_count": 3,
   "metadata": {},
   "outputs": [
    {
     "name": "stdout",
     "output_type": "stream",
     "text": [
      "현재 원/달러 환율(pandas-datareader): 1325.89\n"
     ]
    }
   ],
   "source": [
    "import pandas_datareader as pdr\n",
    "\n",
    "df = pdr.get_data_fred(\"DEXKOUS\")\n",
    "rate = df[\"DEXKOUS\"][-1]\n",
    "\n",
    "print(\"현재 원/달러 환율(pandas-datareader):\", rate)\n",
    "\n"
   ]
  },
  {
   "cell_type": "code",
   "execution_count": 4,
   "metadata": {},
   "outputs": [
    {
     "name": "stdout",
     "output_type": "stream",
     "text": [
      "[*********************100%%**********************]  1 of 1 completed\n",
      "현재 원/달러 환율(yfinance): 1322.8900146484375\n"
     ]
    }
   ],
   "source": [
    "import yfinance as yf\n",
    "\n",
    "df = yf.download(\"KRW=X\")\n",
    "rate = df[\"Close\"][-1]\n",
    "print(\"현재 원/달러 환율(yfinance):\", rate)"
   ]
  },
  {
   "cell_type": "markdown",
   "metadata": {},
   "source": [
    "## 환율 가져오기\n",
    "- Cost Explorer 에서 달러대 원화 환율 가져올 때 사용하는 코드로 사용"
   ]
  },
  {
   "cell_type": "code",
   "execution_count": 5,
   "metadata": {},
   "outputs": [
    {
     "name": "stdout",
     "output_type": "stream",
     "text": [
      "1 USD = 1,324.02 KRW \n",
      "['1', 'USD', '=', '1,324.02', 'KRW']\n",
      "1,324.02\n"
     ]
    }
   ],
   "source": [
    "import requests\n",
    "from lxml import html\n",
    "from pprint import pprint\n",
    "\n",
    "#define URL\n",
    "forex_url = 'https://exchangerates.org/1-usd-to-krw'\n",
    "#define xpath\n",
    "xpath = '/html/body/main/div[2]/div/div/div[2]/div/div[1]/div/div[2]/div[1]/text()'\n",
    "\n",
    "response = requests.get(forex_url)\n",
    "\n",
    "# Check available URL [200]:OK, [403]:empty\n",
    "# print(response)\n",
    "# pprint(response)\n",
    "\n",
    "tree = html.fromstring(response.content)\n",
    "element_text = tree.xpath(xpath)[0]\n",
    "# Print the text content of the selected element\n",
    "print(element_text)\n",
    "# pprint(element_text)\n",
    "\n",
    "tokens = element_text.split()\n",
    "print(tokens)\n",
    "print(tokens[3])"
   ]
  }
 ],
 "metadata": {
  "kernelspec": {
   "display_name": "Python 3",
   "language": "python",
   "name": "python3"
  },
  "language_info": {
   "codemirror_mode": {
    "name": "ipython",
    "version": 3
   },
   "file_extension": ".py",
   "mimetype": "text/x-python",
   "name": "python",
   "nbconvert_exporter": "python",
   "pygments_lexer": "ipython3",
   "version": "3.11.3"
  },
  "orig_nbformat": 4
 },
 "nbformat": 4,
 "nbformat_minor": 2
}
