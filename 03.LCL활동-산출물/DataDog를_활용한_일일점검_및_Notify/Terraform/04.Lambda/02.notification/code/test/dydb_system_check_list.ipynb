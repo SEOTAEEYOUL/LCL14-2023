{
 "cells": [
  {
   "cell_type": "code",
   "execution_count": 1,
   "metadata": {},
   "outputs": [],
   "source": [
    "import boto3\n",
    "from pprint import pprint \n",
    "\n",
    "import boto3_helper\n",
    "\n",
    "import os\n",
    "\n"
   ]
  },
  {
   "cell_type": "code",
   "execution_count": 2,
   "metadata": {},
   "outputs": [],
   "source": [
    "# $Env:AWS_PROFILE=\"lcl14\"\n",
    "# $Env:AWS_SECRET_NAME=\"secret_manager_aws_lcl14\"\n",
    "# $Env:DD_SECRET_NAME=\"secret_manager_datadog_lcl14\"\n",
    "# $Env:REGION=\"ap-northeast-2\"  \n",
    "\n",
    "os.environ['AWS_PROFILE']     = 'lcl14'\n",
    "os.environ['DD_SECRET_NAME']  = 'secret_manager_datadog_lcl14'\n",
    "os.environ['AWS_SECRET_NAME'] = 'secret_manager_aws_lcl14'  # 시크릿의 이름을 지정하세요.\n",
    "os.environ['REGION']          = 'ap-northeast-2'  # 시크릿 매니저가 있는 지역을 지정하세요."
   ]
  },
  {
   "cell_type": "code",
   "execution_count": 3,
   "metadata": {},
   "outputs": [
    {
     "name": "stdout",
     "output_type": "stream",
     "text": [
      "ap-northeast-2\n",
      "secret_manager_aws_lcl14\n"
     ]
    }
   ],
   "source": [
    "print(os.getenv('REGION'))\n",
    "print(os.getenv('AWS_SECRET_NAME'))"
   ]
  },
  {
   "cell_type": "code",
   "execution_count": 4,
   "metadata": {},
   "outputs": [
    {
     "data": {
      "text/plain": [
       "Session(region_name='ap-northeast-2')"
      ]
     },
     "execution_count": 4,
     "metadata": {},
     "output_type": "execute_result"
    }
   ],
   "source": [
    "\n",
    "boto3_helper.init_aws_session( )"
   ]
  },
  {
   "cell_type": "code",
   "execution_count": 5,
   "metadata": {},
   "outputs": [],
   "source": [
    "# DynamoDB 클라이언트 생성\n",
    "dynamodb = boto3.client('dynamodb')\n",
    "\n",
    "# 테이블 이름\n",
    "table_name = 'dynamodb_system_check_lcl14'\n",
    "\n"
   ]
  },
  {
   "cell_type": "code",
   "execution_count": 11,
   "metadata": {},
   "outputs": [
    {
     "data": {
      "text/plain": [
       "{'TableDescription': {'AttributeDefinitions': [{'AttributeName': 'check_dtm',\n",
       "    'AttributeType': 'S'},\n",
       "   {'AttributeName': 'resource_id', 'AttributeType': 'S'}],\n",
       "  'TableName': 'dynamodb_system_check_lcl14',\n",
       "  'KeySchema': [{'AttributeName': 'resource_id', 'KeyType': 'HASH'},\n",
       "   {'AttributeName': 'check_dtm', 'KeyType': 'RANGE'}],\n",
       "  'TableStatus': 'UPDATING',\n",
       "  'CreationDateTime': datetime.datetime(2023, 6, 27, 18, 46, 51, 613000, tzinfo=tzlocal()),\n",
       "  'ProvisionedThroughput': {'NumberOfDecreasesToday': 0,\n",
       "   'ReadCapacityUnits': 0,\n",
       "   'WriteCapacityUnits': 0},\n",
       "  'TableSizeBytes': 3892382,\n",
       "  'ItemCount': 2818,\n",
       "  'TableArn': 'arn:aws:dynamodb:ap-northeast-2:123456789012:table/dynamodb_system_check_lcl14',\n",
       "  'TableId': '4c760477-275b-4e55-ae43-aa83b790bfae',\n",
       "  'BillingModeSummary': {'BillingMode': 'PAY_PER_REQUEST',\n",
       "   'LastUpdateToPayPerRequestDateTime': datetime.datetime(2023, 6, 27, 18, 46, 51, 613000, tzinfo=tzlocal())},\n",
       "  'GlobalSecondaryIndexes': [{'IndexName': 'resource_id-check_dtm-index',\n",
       "    'KeySchema': [{'AttributeName': 'resource_id', 'KeyType': 'HASH'},\n",
       "     {'AttributeName': 'check_dtm', 'KeyType': 'RANGE'}],\n",
       "    'Projection': {'ProjectionType': 'INCLUDE',\n",
       "     'NonKeyAttributes': ['check_result_detail']},\n",
       "    'IndexStatus': 'ACTIVE',\n",
       "    'ProvisionedThroughput': {'NumberOfDecreasesToday': 0,\n",
       "     'ReadCapacityUnits': 0,\n",
       "     'WriteCapacityUnits': 0},\n",
       "    'IndexSizeBytes': 3855748,\n",
       "    'ItemCount': 2818,\n",
       "    'IndexArn': 'arn:aws:dynamodb:ap-northeast-2:123456789012:table/dynamodb_system_check_lcl14/index/resource_id-check_dtm-index'},\n",
       "   {'IndexName': 'check_dtm-index',\n",
       "    'KeySchema': [{'AttributeName': 'resource_id', 'KeyType': 'HASH'},\n",
       "     {'AttributeName': 'check_dtm', 'KeyType': 'RANGE'}],\n",
       "    'Projection': {'ProjectionType': 'ALL'},\n",
       "    'IndexStatus': 'CREATING',\n",
       "    'Backfilling': False,\n",
       "    'ProvisionedThroughput': {'NumberOfDecreasesToday': 0,\n",
       "     'ReadCapacityUnits': 0,\n",
       "     'WriteCapacityUnits': 0},\n",
       "    'IndexSizeBytes': 0,\n",
       "    'ItemCount': 0,\n",
       "    'IndexArn': 'arn:aws:dynamodb:ap-northeast-2:123456789012:table/dynamodb_system_check_lcl14/index/check_dtm-index'}],\n",
       "  'StreamSpecification': {'StreamEnabled': True,\n",
       "   'StreamViewType': 'NEW_AND_OLD_IMAGES'},\n",
       "  'LatestStreamLabel': '2023-06-27T09:46:51.613',\n",
       "  'LatestStreamArn': 'arn:aws:dynamodb:ap-northeast-2:123456789012:table/dynamodb_system_check_lcl14/stream/2023-06-27T09:46:51.613',\n",
       "  'DeletionProtectionEnabled': False},\n",
       " 'ResponseMetadata': {'RequestId': 'L559TG08EOQPOK5RPOJVBSCMBVVV4KQNSO5AEMVJF66Q9ASUAAJG',\n",
       "  'HTTPStatusCode': 200,\n",
       "  'HTTPHeaders': {'server': 'Server',\n",
       "   'date': 'Tue, 04 Jul 2023 12:33:01 GMT',\n",
       "   'content-type': 'application/x-amz-json-1.0',\n",
       "   'content-length': '2196',\n",
       "   'connection': 'keep-alive',\n",
       "   'x-amzn-requestid': 'L559TG08EOQPOK5RPOJVBSCMBVVV4KQNSO5AEMVJF66Q9ASUAAJG',\n",
       "   'x-amz-crc32': '2761274905'},\n",
       "  'RetryAttempts': 0}}"
      ]
     },
     "execution_count": 11,
     "metadata": {},
     "output_type": "execute_result"
    }
   ],
   "source": [
    "# 인덱스 이름\n",
    "index_name = 'check_dtm-index'\n",
    "\n",
    "# 인덱스 키 스키마\n",
    "key_schema = [\n",
    "    {'AttributeName': 'resource_id', 'KeyType': 'HASH'},  # HASH 키\n",
    "    {'AttributeName': 'check_dtm', 'KeyType': 'RANGE'}  # RANGE 키\n",
    "]\n",
    "\n",
    "# 인덱스 프로젝션\n",
    "projection = {'ProjectionType': 'ALL'}\n",
    "\n",
    "# 인덱스 생성 요청\n",
    "dynamodb.update_table(\n",
    "    TableName=table_name,\n",
    "    AttributeDefinitions=[\n",
    "        {'AttributeName': 'resource_id', 'AttributeType': 'S'},\n",
    "        {'AttributeName': 'check_dtm', 'AttributeType': 'S'}\n",
    "    ],\n",
    "    GlobalSecondaryIndexUpdates=[\n",
    "        {\n",
    "            'Create': {\n",
    "                'IndexName': index_name,\n",
    "                'KeySchema': key_schema,\n",
    "                'Projection': projection\n",
    "            }\n",
    "        }\n",
    "    ]\n",
    ")"
   ]
  },
  {
   "cell_type": "code",
   "execution_count": 18,
   "metadata": {},
   "outputs": [
    {
     "name": "stdout",
     "output_type": "stream",
     "text": [
      "{'ExpressionAttributeValues': {':date': {'S': '2023/07/04'},\n",
      "                               ':resource_id': {'S': '*'}},\n",
      " 'IndexName': 'check_dtm-index',\n",
      " 'KeyConditionExpression': 'resource_id = :resource_id and '\n",
      "                           'begins_with(check_dtm, :date)',\n",
      " 'Limit': 1,\n",
      " 'ScanIndexForward': False,\n",
      " 'TableName': 'dynamodb_system_check_lcl14'}\n"
     ]
    }
   ],
   "source": [
    "# 금일 날짜 ('2023/07/04')\n",
    "date        = '2023/07/04'\n",
    "resource_id = '*'\n",
    "\n",
    "\n",
    "# Query 파라미터 설정\n",
    "query_params = {\n",
    "    'TableName': table_name,\n",
    "    # 'IndexName': 'resource_id-check_dtm-index',  # 인덱스 이름\n",
    "    # 'IndexName': 'resource_id-check_dtm-index',  # 인덱스 이름\n",
    "    'IndexName': index_name,  # 인덱스 이름 \n",
    "    'KeyConditionExpression': 'resource_id = :resource_id and begins_with(check_dtm, :date)',\n",
    "    # 'KeyConditionExpression': 'begins_with(check_dtm, :date)',\n",
    "    'ExpressionAttributeValues': {\n",
    "        ':resource_id': {'S': resource_id},  # resource_id 값\n",
    "        ':date': {'S': date}  # 날짜 값\n",
    "    },\n",
    "    'ScanIndexForward': False,  # 내림차순 정렬 (가장 최근 값부터 가져옴)\n",
    "    'Limit': 1  # 가져올 아이템 개수\n",
    "}\n",
    "\n",
    "pprint(query_params)\n",
    "\n",
    "# pprint(**query_params)"
   ]
  },
  {
   "cell_type": "code",
   "execution_count": 19,
   "metadata": {},
   "outputs": [
    {
     "name": "stdout",
     "output_type": "stream",
     "text": [
      "{'Count': 0,\n",
      " 'Items': [],\n",
      " 'ResponseMetadata': {'HTTPHeaders': {'connection': 'keep-alive',\n",
      "                                      'content-length': '39',\n",
      "                                      'content-type': 'application/x-amz-json-1.0',\n",
      "                                      'date': 'Tue, 04 Jul 2023 12:38:00 GMT',\n",
      "                                      'server': 'Server',\n",
      "                                      'x-amz-crc32': '3413411624',\n",
      "                                      'x-amzn-requestid': '1RPO7IOQOMB052M4M2G17F024NVV4KQNSO5AEMVJF66Q9ASUAAJG'},\n",
      "                      'HTTPStatusCode': 200,\n",
      "                      'RequestId': '1RPO7IOQOMB052M4M2G17F024NVV4KQNSO5AEMVJF66Q9ASUAAJG',\n",
      "                      'RetryAttempts': 0},\n",
      " 'ScannedCount': 0}\n"
     ]
    }
   ],
   "source": [
    "# 쿼리 실행\n",
    "response = dynamodb.query(**query_params)\n",
    "\n",
    "pprint(response)\n",
    "\n"
   ]
  },
  {
   "cell_type": "code",
   "execution_count": 20,
   "metadata": {},
   "outputs": [],
   "source": [
    "# 결과 처리\n",
    "for item in response['Items']:\n",
    "    resource_id = item['resource_id']['S']\n",
    "    check_dtm = item['check_dtm']['S']\n",
    "    print(f\"resource_id: {resource_id}, check_dtm: {check_dtm}\")"
   ]
  }
 ],
 "metadata": {
  "kernelspec": {
   "display_name": "Python 3",
   "language": "python",
   "name": "python3"
  },
  "language_info": {
   "codemirror_mode": {
    "name": "ipython",
    "version": 3
   },
   "file_extension": ".py",
   "mimetype": "text/x-python",
   "name": "python",
   "nbconvert_exporter": "python",
   "pygments_lexer": "ipython3",
   "version": "3.11.3"
  },
  "orig_nbformat": 4
 },
 "nbformat": 4,
 "nbformat_minor": 2
}
